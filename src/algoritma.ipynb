{
 "cells": [
  {
   "cell_type": "code",
   "execution_count": 4,
   "id": "a5840916-d840-4cf2-8d88-719c7012860a",
   "metadata": {},
   "outputs": [
    {
     "name": "stdout",
     "output_type": "stream",
     "text": [
      "Training Linear Regression...\n",
      "Linear Regression RMSE: 11105.321682283013\n",
      "Training Random Forest...\n",
      "Random Forest RMSE: 12841.664498803057\n",
      "Training Gradient Boosting...\n",
      "Gradient Boosting RMSE: 11818.49002626653\n",
      "Training Support Vector Regressor...\n",
      "Support Vector Regressor RMSE: 18310.05743498874\n",
      "Training Decision Tree...\n",
      "Decision Tree RMSE: 17970.056172700184\n",
      "Training K-Nearest Neighbors...\n",
      "K-Nearest Neighbors RMSE: 12660.774261695056\n",
      "En iyi model: LinearRegression with RMSE: 11105.321682283013\n"
     ]
    }
   ],
   "source": [
    "import pandas as pd\n",
    "import numpy as np\n",
    "from sklearn.model_selection import train_test_split\n",
    "from sklearn.preprocessing import StandardScaler\n",
    "from sklearn.linear_model import LinearRegression\n",
    "from sklearn.ensemble import RandomForestRegressor, GradientBoostingRegressor\n",
    "from sklearn.svm import SVR\n",
    "from sklearn.tree import DecisionTreeRegressor\n",
    "from sklearn.neighbors import KNeighborsRegressor\n",
    "from sklearn.metrics import mean_squared_error\n",
    "import joblib\n",
    "\n",
    "\n",
    "data = pd.read_csv('veri.csv')\n",
    "\n",
    "\n",
    "X = data.drop(columns=['Fiyat'])\n",
    "y = data['Fiyat']\n",
    "\n",
    "\n",
    "X_train, X_test, y_train, y_test = train_test_split(X, y, test_size=0.2, random_state=42)\n",
    "\n",
    "\n",
    "scaler = StandardScaler()\n",
    "X_train_scaled = scaler.fit_transform(X_train)\n",
    "X_test_scaled = scaler.transform(X_test)\n",
    "\n",
    "\n",
    "models = {\n",
    "    'Linear Regression': LinearRegression(),\n",
    "    'Random Forest': RandomForestRegressor(n_estimators=100, random_state=42),\n",
    "    'Gradient Boosting': GradientBoostingRegressor(n_estimators=100, random_state=42),\n",
    "    'Support Vector Regressor': SVR(),\n",
    "    'Decision Tree': DecisionTreeRegressor(random_state=42),\n",
    "    'K-Nearest Neighbors': KNeighborsRegressor(),\n",
    "}\n",
    "\n",
    "\n",
    "best_model = None\n",
    "best_rmse = float('inf')\n",
    "\n",
    "for name, model in models.items():\n",
    "    print(f\"Training {name}...\")\n",
    "    \n",
    "    model.fit(X_train_scaled, y_train)\n",
    "    \n",
    "\n",
    "    y_pred = model.predict(X_test_scaled)\n",
    "    \n",
    "\n",
    "    rmse = np.sqrt(mean_squared_error(y_test, y_pred))\n",
    "    print(f\"{name} RMSE: {rmse}\")\n",
    "    \n",
    "    if rmse < best_rmse:\n",
    "        best_rmse = rmse\n",
    "        best_model = model\n",
    "\n",
    "\n",
    "joblib.dump(best_model, 'eniyi.joblib')\n",
    "\n",
    "\n",
    "print(f\"En iyi model: {best_model.__class__.__name__} with RMSE: {best_rmse}\")"
   ]
  },
  {
   "cell_type": "code",
   "execution_count": null,
   "id": "922ed672-36e6-4bd9-a599-9758e120a148",
   "metadata": {},
   "outputs": [],
   "source": []
  }
 ],
 "metadata": {
  "kernelspec": {
   "display_name": "Python 3 (ipykernel)",
   "language": "python",
   "name": "python3"
  },
  "language_info": {
   "codemirror_mode": {
    "name": "ipython",
    "version": 3
   },
   "file_extension": ".py",
   "mimetype": "text/x-python",
   "name": "python",
   "nbconvert_exporter": "python",
   "pygments_lexer": "ipython3",
   "version": "3.12.4"
  }
 },
 "nbformat": 4,
 "nbformat_minor": 5
}
